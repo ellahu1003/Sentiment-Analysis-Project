{
 "cells": [
  {
   "cell_type": "markdown",
   "metadata": {},
   "source": [
    "***A basic sentiment analysis tool that classifies text as positive, negative, or neutral.***\n"
   ]
  },
  {
   "cell_type": "code",
   "execution_count": 2,
   "metadata": {},
   "outputs": [],
   "source": [
    "# Import libraries and dataset\n",
    "import pandas as pd\n",
    "import nltk\n",
    "from nltk.corpus import movie_reviews\n",
    "from nltk.corpus import stopwords\n",
    "from nltk.tokenize import word_tokenize\n",
    "from sklearn.feature_extraction.text import TfidfVectorizer\n",
    "from sklearn.model_selection import train_test_split\n",
    "from sklearn.naive_bayes import MultinomialNB\n",
    "from sklearn.metrics import accuracy_score, classification_report\n",
    "import seaborn as sns\n",
    "import matplotlib.pyplot as plt\n",
    "import random\n",
    "import string\n",
    "import os"
   ]
  },
  {
   "cell_type": "code",
   "execution_count": 3,
   "metadata": {},
   "outputs": [
    {
     "name": "stderr",
     "output_type": "stream",
     "text": [
      "[nltk_data] Downloading package movie_reviews to\n",
      "[nltk_data]     /Users/ella/nltk_data...\n",
      "[nltk_data]   Package movie_reviews is already up-to-date!\n",
      "[nltk_data] Downloading package stopwords to /Users/ella/nltk_data...\n",
      "[nltk_data]   Package stopwords is already up-to-date!\n"
     ]
    },
    {
     "name": "stdout",
     "output_type": "stream",
     "text": [
      "Sample of original content (first 5 documents):\n",
      "(['plot', ':', 'two', 'teen', 'couples', 'go', 'to', 'a', 'church', 'party', ',', 'drink', 'and', 'then', 'drive', '.', 'they', 'get', 'into', 'an', 'accident', '.', 'one', 'of', 'the', 'guys', 'dies', ',', 'but', 'his', 'girlfriend', 'continues', 'to', 'see', 'him', 'in', 'her', 'life', ',', 'and', 'has', 'nightmares', '.', 'what', \"'\", 's', 'the', 'deal', '?', 'watch', 'the', 'movie', 'and', '\"', 'sorta', '\"', 'find', 'out', '.', '.', '.', 'critique', ':', 'a', 'mind', '-', 'fuck', 'movie', 'for', 'the', 'teen', 'generation', 'that', 'touches', 'on', 'a', 'very', 'cool', 'idea', ',', 'but', 'presents', 'it', 'in', 'a', 'very', 'bad', 'package', '.', 'which', 'is', 'what', 'makes', 'this', 'review', 'an', 'even', 'harder', 'one', 'to', 'write', ',', 'since', 'i', 'generally', 'applaud', 'films', 'which', 'attempt', 'to', 'break', 'the', 'mold', ',', 'mess', 'with', 'your', 'head', 'and', 'such', '(', 'lost', 'highway', '&', 'memento', ')', ',', 'but', 'there', 'are', 'good', 'and', 'bad', 'ways', 'of', 'making', 'all', 'types', 'of', 'films', ',', 'and', 'these', 'folks', 'just', 'didn', \"'\", 't', 'snag', 'this', 'one', 'correctly', '.', 'they', 'seem', 'to', 'have', 'taken', 'this', 'pretty', 'neat', 'concept', ',', 'but', 'executed', 'it', 'terribly', '.', 'so', 'what', 'are', 'the', 'problems', 'with', 'the', 'movie', '?', 'well', ',', 'its', 'main', 'problem', 'is', 'that', 'it', \"'\", 's', 'simply', 'too', 'jumbled', '.', 'it', 'starts', 'off', '\"', 'normal', '\"', 'but', 'then', 'downshifts', 'into', 'this', '\"', 'fantasy', '\"', 'world', 'in', 'which', 'you', ',', 'as', 'an', 'audience', 'member', ',', 'have', 'no', 'idea', 'what', \"'\", 's', 'going', 'on', '.', 'there', 'are', 'dreams', ',', 'there', 'are', 'characters', 'coming', 'back', 'from', 'the', 'dead', ',', 'there', 'are', 'others', 'who', 'look', 'like', 'the', 'dead', ',', 'there', 'are', 'strange', 'apparitions', ',', 'there', 'are', 'disappearances', ',', 'there', 'are', 'a', 'looooot', 'of', 'chase', 'scenes', ',', 'there', 'are', 'tons', 'of', 'weird', 'things', 'that', 'happen', ',', 'and', 'most', 'of', 'it', 'is', 'simply', 'not', 'explained', '.', 'now', 'i', 'personally', 'don', \"'\", 't', 'mind', 'trying', 'to', 'unravel', 'a', 'film', 'every', 'now', 'and', 'then', ',', 'but', 'when', 'all', 'it', 'does', 'is', 'give', 'me', 'the', 'same', 'clue', 'over', 'and', 'over', 'again', ',', 'i', 'get', 'kind', 'of', 'fed', 'up', 'after', 'a', 'while', ',', 'which', 'is', 'this', 'film', \"'\", 's', 'biggest', 'problem', '.', 'it', \"'\", 's', 'obviously', 'got', 'this', 'big', 'secret', 'to', 'hide', ',', 'but', 'it', 'seems', 'to', 'want', 'to', 'hide', 'it', 'completely', 'until', 'its', 'final', 'five', 'minutes', '.', 'and', 'do', 'they', 'make', 'things', 'entertaining', ',', 'thrilling', 'or', 'even', 'engaging', ',', 'in', 'the', 'meantime', '?', 'not', 'really', '.', 'the', 'sad', 'part', 'is', 'that', 'the', 'arrow', 'and', 'i', 'both', 'dig', 'on', 'flicks', 'like', 'this', ',', 'so', 'we', 'actually', 'figured', 'most', 'of', 'it', 'out', 'by', 'the', 'half', '-', 'way', 'point', ',', 'so', 'all', 'of', 'the', 'strangeness', 'after', 'that', 'did', 'start', 'to', 'make', 'a', 'little', 'bit', 'of', 'sense', ',', 'but', 'it', 'still', 'didn', \"'\", 't', 'the', 'make', 'the', 'film', 'all', 'that', 'more', 'entertaining', '.', 'i', 'guess', 'the', 'bottom', 'line', 'with', 'movies', 'like', 'this', 'is', 'that', 'you', 'should', 'always', 'make', 'sure', 'that', 'the', 'audience', 'is', '\"', 'into', 'it', '\"', 'even', 'before', 'they', 'are', 'given', 'the', 'secret', 'password', 'to', 'enter', 'your', 'world', 'of', 'understanding', '.', 'i', 'mean', ',', 'showing', 'melissa', 'sagemiller', 'running', 'away', 'from', 'visions', 'for', 'about', '20', 'minutes', 'throughout', 'the', 'movie', 'is', 'just', 'plain', 'lazy', '!', '!', 'okay', ',', 'we', 'get', 'it', '.', '.', '.', 'there', 'are', 'people', 'chasing', 'her', 'and', 'we', 'don', \"'\", 't', 'know', 'who', 'they', 'are', '.', 'do', 'we', 'really', 'need', 'to', 'see', 'it', 'over', 'and', 'over', 'again', '?', 'how', 'about', 'giving', 'us', 'different', 'scenes', 'offering', 'further', 'insight', 'into', 'all', 'of', 'the', 'strangeness', 'going', 'down', 'in', 'the', 'movie', '?', 'apparently', ',', 'the', 'studio', 'took', 'this', 'film', 'away', 'from', 'its', 'director', 'and', 'chopped', 'it', 'up', 'themselves', ',', 'and', 'it', 'shows', '.', 'there', 'might', \"'\", 've', 'been', 'a', 'pretty', 'decent', 'teen', 'mind', '-', 'fuck', 'movie', 'in', 'here', 'somewhere', ',', 'but', 'i', 'guess', '\"', 'the', 'suits', '\"', 'decided', 'that', 'turning', 'it', 'into', 'a', 'music', 'video', 'with', 'little', 'edge', ',', 'would', 'make', 'more', 'sense', '.', 'the', 'actors', 'are', 'pretty', 'good', 'for', 'the', 'most', 'part', ',', 'although', 'wes', 'bentley', 'just', 'seemed', 'to', 'be', 'playing', 'the', 'exact', 'same', 'character', 'that', 'he', 'did', 'in', 'american', 'beauty', ',', 'only', 'in', 'a', 'new', 'neighborhood', '.', 'but', 'my', 'biggest', 'kudos', 'go', 'out', 'to', 'sagemiller', ',', 'who', 'holds', 'her', 'own', 'throughout', 'the', 'entire', 'film', ',', 'and', 'actually', 'has', 'you', 'feeling', 'her', 'character', \"'\", 's', 'unraveling', '.', 'overall', ',', 'the', 'film', 'doesn', \"'\", 't', 'stick', 'because', 'it', 'doesn', \"'\", 't', 'entertain', ',', 'it', \"'\", 's', 'confusing', ',', 'it', 'rarely', 'excites', 'and', 'it', 'feels', 'pretty', 'redundant', 'for', 'most', 'of', 'its', 'runtime', ',', 'despite', 'a', 'pretty', 'cool', 'ending', 'and', 'explanation', 'to', 'all', 'of', 'the', 'craziness', 'that', 'came', 'before', 'it', '.', 'oh', ',', 'and', 'by', 'the', 'way', ',', 'this', 'is', 'not', 'a', 'horror', 'or', 'teen', 'slasher', 'flick', '.', '.', '.', 'it', \"'\", 's', 'just', 'packaged', 'to', 'look', 'that', 'way', 'because', 'someone', 'is', 'apparently', 'assuming', 'that', 'the', 'genre', 'is', 'still', 'hot', 'with', 'the', 'kids', '.', 'it', 'also', 'wrapped', 'production', 'two', 'years', 'ago', 'and', 'has', 'been', 'sitting', 'on', 'the', 'shelves', 'ever', 'since', '.', 'whatever', '.', '.', '.', 'skip', 'it', '!', 'where', \"'\", 's', 'joblo', 'coming', 'from', '?', 'a', 'nightmare', 'of', 'elm', 'street', '3', '(', '7', '/', '10', ')', '-', 'blair', 'witch', '2', '(', '7', '/', '10', ')', '-', 'the', 'crow', '(', '9', '/', '10', ')', '-', 'the', 'crow', ':', 'salvation', '(', '4', '/', '10', ')', '-', 'lost', 'highway', '(', '10', '/', '10', ')', '-', 'memento', '(', '10', '/', '10', ')', '-', 'the', 'others', '(', '9', '/', '10', ')', '-', 'stir', 'of', 'echoes', '(', '8', '/', '10', ')'], 'neg')\n",
      "(['the', 'happy', 'bastard', \"'\", 's', 'quick', 'movie', 'review', 'damn', 'that', 'y2k', 'bug', '.', 'it', \"'\", 's', 'got', 'a', 'head', 'start', 'in', 'this', 'movie', 'starring', 'jamie', 'lee', 'curtis', 'and', 'another', 'baldwin', 'brother', '(', 'william', 'this', 'time', ')', 'in', 'a', 'story', 'regarding', 'a', 'crew', 'of', 'a', 'tugboat', 'that', 'comes', 'across', 'a', 'deserted', 'russian', 'tech', 'ship', 'that', 'has', 'a', 'strangeness', 'to', 'it', 'when', 'they', 'kick', 'the', 'power', 'back', 'on', '.', 'little', 'do', 'they', 'know', 'the', 'power', 'within', '.', '.', '.', 'going', 'for', 'the', 'gore', 'and', 'bringing', 'on', 'a', 'few', 'action', 'sequences', 'here', 'and', 'there', ',', 'virus', 'still', 'feels', 'very', 'empty', ',', 'like', 'a', 'movie', 'going', 'for', 'all', 'flash', 'and', 'no', 'substance', '.', 'we', 'don', \"'\", 't', 'know', 'why', 'the', 'crew', 'was', 'really', 'out', 'in', 'the', 'middle', 'of', 'nowhere', ',', 'we', 'don', \"'\", 't', 'know', 'the', 'origin', 'of', 'what', 'took', 'over', 'the', 'ship', '(', 'just', 'that', 'a', 'big', 'pink', 'flashy', 'thing', 'hit', 'the', 'mir', ')', ',', 'and', ',', 'of', 'course', ',', 'we', 'don', \"'\", 't', 'know', 'why', 'donald', 'sutherland', 'is', 'stumbling', 'around', 'drunkenly', 'throughout', '.', 'here', ',', 'it', \"'\", 's', 'just', '\"', 'hey', ',', 'let', \"'\", 's', 'chase', 'these', 'people', 'around', 'with', 'some', 'robots', '\"', '.', 'the', 'acting', 'is', 'below', 'average', ',', 'even', 'from', 'the', 'likes', 'of', 'curtis', '.', 'you', \"'\", 're', 'more', 'likely', 'to', 'get', 'a', 'kick', 'out', 'of', 'her', 'work', 'in', 'halloween', 'h20', '.', 'sutherland', 'is', 'wasted', 'and', 'baldwin', ',', 'well', ',', 'he', \"'\", 's', 'acting', 'like', 'a', 'baldwin', ',', 'of', 'course', '.', 'the', 'real', 'star', 'here', 'are', 'stan', 'winston', \"'\", 's', 'robot', 'design', ',', 'some', 'schnazzy', 'cgi', ',', 'and', 'the', 'occasional', 'good', 'gore', 'shot', ',', 'like', 'picking', 'into', 'someone', \"'\", 's', 'brain', '.', 'so', ',', 'if', 'robots', 'and', 'body', 'parts', 'really', 'turn', 'you', 'on', ',', 'here', \"'\", 's', 'your', 'movie', '.', 'otherwise', ',', 'it', \"'\", 's', 'pretty', 'much', 'a', 'sunken', 'ship', 'of', 'a', 'movie', '.'], 'neg')\n",
      "(['it', 'is', 'movies', 'like', 'these', 'that', 'make', 'a', 'jaded', 'movie', 'viewer', 'thankful', 'for', 'the', 'invention', 'of', 'the', 'timex', 'indiglo', 'watch', '.', 'based', 'on', 'the', 'late', '1960', \"'\", 's', 'television', 'show', 'by', 'the', 'same', 'name', ',', 'the', 'mod', 'squad', 'tells', 'the', 'tale', 'of', 'three', 'reformed', 'criminals', 'under', 'the', 'employ', 'of', 'the', 'police', 'to', 'go', 'undercover', '.', 'however', ',', 'things', 'go', 'wrong', 'as', 'evidence', 'gets', 'stolen', 'and', 'they', 'are', 'immediately', 'under', 'suspicion', '.', 'of', 'course', ',', 'the', 'ads', 'make', 'it', 'seem', 'like', 'so', 'much', 'more', '.', 'quick', 'cuts', ',', 'cool', 'music', ',', 'claire', 'dane', \"'\", 's', 'nice', 'hair', 'and', 'cute', 'outfits', ',', 'car', 'chases', ',', 'stuff', 'blowing', 'up', ',', 'and', 'the', 'like', '.', 'sounds', 'like', 'a', 'cool', 'movie', ',', 'does', 'it', 'not', '?', 'after', 'the', 'first', 'fifteen', 'minutes', ',', 'it', 'quickly', 'becomes', 'apparent', 'that', 'it', 'is', 'not', '.', 'the', 'mod', 'squad', 'is', 'certainly', 'a', 'slick', 'looking', 'production', ',', 'complete', 'with', 'nice', 'hair', 'and', 'costumes', ',', 'but', 'that', 'simply', 'isn', \"'\", 't', 'enough', '.', 'the', 'film', 'is', 'best', 'described', 'as', 'a', 'cross', 'between', 'an', 'hour', '-', 'long', 'cop', 'show', 'and', 'a', 'music', 'video', ',', 'both', 'stretched', 'out', 'into', 'the', 'span', 'of', 'an', 'hour', 'and', 'a', 'half', '.', 'and', 'with', 'it', 'comes', 'every', 'single', 'clich', '?', '.', 'it', 'doesn', \"'\", 't', 'really', 'matter', 'that', 'the', 'film', 'is', 'based', 'on', 'a', 'television', 'show', ',', 'as', 'most', 'of', 'the', 'plot', 'elements', 'have', 'been', 'recycled', 'from', 'everything', 'we', \"'\", 've', 'already', 'seen', '.', 'the', 'characters', 'and', 'acting', 'is', 'nothing', 'spectacular', ',', 'sometimes', 'even', 'bordering', 'on', 'wooden', '.', 'claire', 'danes', 'and', 'omar', 'epps', 'deliver', 'their', 'lines', 'as', 'if', 'they', 'are', 'bored', ',', 'which', 'really', 'transfers', 'onto', 'the', 'audience', '.', 'the', 'only', 'one', 'to', 'escape', 'relatively', 'unscathed', 'is', 'giovanni', 'ribisi', ',', 'who', 'plays', 'the', 'resident', 'crazy', 'man', ',', 'ultimately', 'being', 'the', 'only', 'thing', 'worth', 'watching', '.', 'unfortunately', ',', 'even', 'he', \"'\", 's', 'not', 'enough', 'to', 'save', 'this', 'convoluted', 'mess', ',', 'as', 'all', 'the', 'characters', 'don', \"'\", 't', 'do', 'much', 'apart', 'from', 'occupying', 'screen', 'time', '.', 'with', 'the', 'young', 'cast', ',', 'cool', 'clothes', ',', 'nice', 'hair', ',', 'and', 'hip', 'soundtrack', ',', 'it', 'appears', 'that', 'the', 'film', 'is', 'geared', 'towards', 'the', 'teenage', 'mindset', '.', 'despite', 'an', 'american', \"'\", 'r', \"'\", 'rating', '(', 'which', 'the', 'content', 'does', 'not', 'justify', ')', ',', 'the', 'film', 'is', 'way', 'too', 'juvenile', 'for', 'the', 'older', 'mindset', '.', 'information', 'on', 'the', 'characters', 'is', 'literally', 'spoon', '-', 'fed', 'to', 'the', 'audience', '(', 'would', 'it', 'be', 'that', 'hard', 'to', 'show', 'us', 'instead', 'of', 'telling', 'us', '?', ')', ',', 'dialogue', 'is', 'poorly', 'written', ',', 'and', 'the', 'plot', 'is', 'extremely', 'predictable', '.', 'the', 'way', 'the', 'film', 'progresses', ',', 'you', 'likely', 'won', \"'\", 't', 'even', 'care', 'if', 'the', 'heroes', 'are', 'in', 'any', 'jeopardy', ',', 'because', 'you', \"'\", 'll', 'know', 'they', 'aren', \"'\", 't', '.', 'basing', 'the', 'show', 'on', 'a', '1960', \"'\", 's', 'television', 'show', 'that', 'nobody', 'remembers', 'is', 'of', 'questionable', 'wisdom', ',', 'especially', 'when', 'one', 'considers', 'the', 'target', 'audience', 'and', 'the', 'fact', 'that', 'the', 'number', 'of', 'memorable', 'films', 'based', 'on', 'television', 'shows', 'can', 'be', 'counted', 'on', 'one', 'hand', '(', 'even', 'one', 'that', \"'\", 's', 'missing', 'a', 'finger', 'or', 'two', ')', '.', 'the', 'number', 'of', 'times', 'that', 'i', 'checked', 'my', 'watch', '(', 'six', ')', 'is', 'a', 'clear', 'indication', 'that', 'this', 'film', 'is', 'not', 'one', 'of', 'them', '.', 'it', 'is', 'clear', 'that', 'the', 'film', 'is', 'nothing', 'more', 'than', 'an', 'attempt', 'to', 'cash', 'in', 'on', 'the', 'teenage', 'spending', 'dollar', ',', 'judging', 'from', 'the', 'rash', 'of', 'really', 'awful', 'teen', '-', 'flicks', 'that', 'we', \"'\", 've', 'been', 'seeing', 'as', 'of', 'late', '.', 'avoid', 'this', 'film', 'at', 'all', 'costs', '.'], 'neg')\n",
      "(['\"', 'quest', 'for', 'camelot', '\"', 'is', 'warner', 'bros', '.', \"'\", 'first', 'feature', '-', 'length', ',', 'fully', '-', 'animated', 'attempt', 'to', 'steal', 'clout', 'from', 'disney', \"'\", 's', 'cartoon', 'empire', ',', 'but', 'the', 'mouse', 'has', 'no', 'reason', 'to', 'be', 'worried', '.', 'the', 'only', 'other', 'recent', 'challenger', 'to', 'their', 'throne', 'was', 'last', 'fall', \"'\", 's', 'promising', ',', 'if', 'flawed', ',', '20th', 'century', 'fox', 'production', '\"', 'anastasia', ',', '\"', 'but', 'disney', \"'\", 's', '\"', 'hercules', ',', '\"', 'with', 'its', 'lively', 'cast', 'and', 'colorful', 'palate', ',', 'had', 'her', 'beat', 'hands', '-', 'down', 'when', 'it', 'came', 'time', 'to', 'crown', '1997', \"'\", 's', 'best', 'piece', 'of', 'animation', '.', 'this', 'year', ',', 'it', \"'\", 's', 'no', 'contest', ',', 'as', '\"', 'quest', 'for', 'camelot', '\"', 'is', 'pretty', 'much', 'dead', 'on', 'arrival', '.', 'even', 'the', 'magic', 'kingdom', 'at', 'its', 'most', 'mediocre', '--', 'that', \"'\", 'd', 'be', '\"', 'pocahontas', '\"', 'for', 'those', 'of', 'you', 'keeping', 'score', '--', 'isn', \"'\", 't', 'nearly', 'as', 'dull', 'as', 'this', '.', 'the', 'story', 'revolves', 'around', 'the', 'adventures', 'of', 'free', '-', 'spirited', 'kayley', '(', 'voiced', 'by', 'jessalyn', 'gilsig', ')', ',', 'the', 'early', '-', 'teen', 'daughter', 'of', 'a', 'belated', 'knight', 'from', 'king', 'arthur', \"'\", 's', 'round', 'table', '.', 'kayley', \"'\", 's', 'only', 'dream', 'is', 'to', 'follow', 'in', 'her', 'father', \"'\", 's', 'footsteps', ',', 'and', 'she', 'gets', 'her', 'chance', 'when', 'evil', 'warlord', 'ruber', '(', 'gary', 'oldman', ')', ',', 'an', 'ex', '-', 'round', 'table', 'member', '-', 'gone', '-', 'bad', ',', 'steals', 'arthur', \"'\", 's', 'magical', 'sword', 'excalibur', 'and', 'accidentally', 'loses', 'it', 'in', 'a', 'dangerous', ',', 'booby', '-', 'trapped', 'forest', '.', 'with', 'the', 'help', 'of', 'hunky', ',', 'blind', 'timberland', '-', 'dweller', 'garrett', '(', 'carey', 'elwes', ')', 'and', 'a', 'two', '-', 'headed', 'dragon', '(', 'eric', 'idle', 'and', 'don', 'rickles', ')', 'that', \"'\", 's', 'always', 'arguing', 'with', 'itself', ',', 'kayley', 'just', 'might', 'be', 'able', 'to', 'break', 'the', 'medieval', 'sexist', 'mold', 'and', 'prove', 'her', 'worth', 'as', 'a', 'fighter', 'on', 'arthur', \"'\", 's', 'side', '.', '\"', 'quest', 'for', 'camelot', '\"', 'is', 'missing', 'pure', 'showmanship', ',', 'an', 'essential', 'element', 'if', 'it', \"'\", 's', 'ever', 'expected', 'to', 'climb', 'to', 'the', 'high', 'ranks', 'of', 'disney', '.', 'there', \"'\", 's', 'nothing', 'here', 'that', 'differentiates', '\"', 'quest', '\"', 'from', 'something', 'you', \"'\", 'd', 'see', 'on', 'any', 'given', 'saturday', 'morning', 'cartoon', '--', 'subpar', 'animation', ',', 'instantly', 'forgettable', 'songs', ',', 'poorly', '-', 'integrated', 'computerized', 'footage', '.', '(', 'compare', 'kayley', 'and', 'garrett', \"'\", 's', 'run', '-', 'in', 'with', 'the', 'angry', 'ogre', 'to', 'herc', \"'\", 's', 'battle', 'with', 'the', 'hydra', '.', 'i', 'rest', 'my', 'case', '.', ')', 'even', 'the', 'characters', 'stink', '--', 'none', 'of', 'them', 'are', 'remotely', 'interesting', ',', 'so', 'much', 'that', 'the', 'film', 'becomes', 'a', 'race', 'to', 'see', 'which', 'one', 'can', 'out', '-', 'bland', 'the', 'others', '.', 'in', 'the', 'end', ',', 'it', \"'\", 's', 'a', 'tie', '--', 'they', 'all', 'win', '.', 'that', 'dragon', \"'\", 's', 'comedy', 'shtick', 'is', 'awfully', 'cloying', ',', 'but', 'at', 'least', 'it', 'shows', 'signs', 'of', 'a', 'pulse', '.', 'at', 'least', 'fans', 'of', 'the', 'early', \"-'\", '90s', 'tgif', 'television', 'line', '-', 'up', 'will', 'be', 'thrilled', 'to', 'find', 'jaleel', '\"', 'urkel', '\"', 'white', 'and', 'bronson', '\"', 'balki', '\"', 'pinchot', 'sharing', 'the', 'same', 'footage', '.', 'a', 'few', 'scenes', 'are', 'nicely', 'realized', '(', 'though', 'i', \"'\", 'm', 'at', 'a', 'loss', 'to', 'recall', 'enough', 'to', 'be', 'specific', ')', ',', 'and', 'the', 'actors', 'providing', 'the', 'voice', 'talent', 'are', 'enthusiastic', '(', 'though', 'most', 'are', 'paired', 'up', 'with', 'singers', 'who', 'don', \"'\", 't', 'sound', 'a', 'thing', 'like', 'them', 'for', 'their', 'big', 'musical', 'moments', '--', 'jane', 'seymour', 'and', 'celine', 'dion', '?', '?', '?', ')', '.', 'but', 'one', 'must', 'strain', 'through', 'too', 'much', 'of', 'this', 'mess', 'to', 'find', 'the', 'good', '.', 'aside', 'from', 'the', 'fact', 'that', 'children', 'will', 'probably', 'be', 'as', 'bored', 'watching', 'this', 'as', 'adults', ',', '\"', 'quest', 'for', 'camelot', '\"', \"'\", 's', 'most', 'grievous', 'error', 'is', 'its', 'complete', 'lack', 'of', 'personality', '.', 'and', 'personality', ',', 'we', 'learn', 'from', 'this', 'mess', ',', 'goes', 'a', 'very', 'long', 'way', '.'], 'neg')\n",
      "(['synopsis', ':', 'a', 'mentally', 'unstable', 'man', 'undergoing', 'psychotherapy', 'saves', 'a', 'boy', 'from', 'a', 'potentially', 'fatal', 'accident', 'and', 'then', 'falls', 'in', 'love', 'with', 'the', 'boy', \"'\", 's', 'mother', ',', 'a', 'fledgling', 'restauranteur', '.', 'unsuccessfully', 'attempting', 'to', 'gain', 'the', 'woman', \"'\", 's', 'favor', ',', 'he', 'takes', 'pictures', 'of', 'her', 'and', 'kills', 'a', 'number', 'of', 'people', 'in', 'his', 'way', '.', 'comments', ':', 'stalked', 'is', 'yet', 'another', 'in', 'a', 'seemingly', 'endless', 'string', 'of', 'spurned', '-', 'psychos', '-', 'getting', '-', 'their', '-', 'revenge', 'type', 'movies', 'which', 'are', 'a', 'stable', 'category', 'in', 'the', '1990s', 'film', 'industry', ',', 'both', 'theatrical', 'and', 'direct', '-', 'to', '-', 'video', '.', 'their', 'proliferation', 'may', 'be', 'due', 'in', 'part', 'to', 'the', 'fact', 'that', 'they', \"'\", 're', 'typically', 'inexpensive', 'to', 'produce', '(', 'no', 'special', 'effects', ',', 'no', 'big', 'name', 'stars', ')', 'and', 'serve', 'as', 'vehicles', 'to', 'flash', 'nudity', '(', 'allowing', 'them', 'to', 'frequent', 'late', '-', 'night', 'cable', 'television', ')', '.', 'stalked', 'wavers', 'slightly', 'from', 'the', 'norm', 'in', 'one', 'respect', ':', 'the', 'psycho', 'never', 'actually', 'has', 'an', 'affair', ';', 'on', 'the', 'contrary', ',', 'he', \"'\", 's', 'rejected', 'rather', 'quickly', '(', 'the', 'psycho', 'typically', 'is', 'an', 'ex', '-', 'lover', ',', 'ex', '-', 'wife', ',', 'or', 'ex', '-', 'husband', ')', '.', 'other', 'than', 'that', ',', 'stalked', 'is', 'just', 'another', 'redundant', 'entry', 'doomed', 'to', 'collect', 'dust', 'on', 'video', 'shelves', 'and', 'viewed', 'after', 'midnight', 'on', 'cable', '.', 'stalked', 'does', 'not', 'provide', 'much', 'suspense', ',', 'though', 'that', 'is', 'what', 'it', 'sets', 'out', 'to', 'do', '.', 'interspersed', 'throughout', 'the', 'opening', 'credits', ',', 'for', 'instance', ',', 'a', 'serious', '-', 'sounding', 'narrator', 'spouts', 'statistics', 'about', 'stalkers', 'and', 'ponders', 'what', 'may', 'cause', 'a', 'man', 'to', 'stalk', '(', 'it', \"'\", 's', 'implicitly', 'implied', 'that', 'all', 'stalkers', 'are', 'men', ')', 'while', 'pictures', 'of', 'a', 'boy', 'are', 'shown', 'on', 'the', 'screen', '.', 'after', 'these', 'credits', ',', 'a', 'snapshot', 'of', 'actor', 'jay', 'underwood', 'appears', '.', 'the', 'narrator', 'states', 'that', '\"', 'this', 'is', 'the', 'story', 'of', 'daryl', 'gleason', '\"', 'and', 'tells', 'the', 'audience', 'that', 'he', 'is', 'the', 'stalker', '.', 'of', 'course', ',', 'really', ',', 'this', 'is', 'the', 'story', 'of', 'restauranteur', 'brooke', 'daniels', '.', 'if', 'the', 'movie', 'was', 'meant', 'to', 'be', 'about', 'daryl', ',', 'then', 'it', 'should', 'have', 'been', 'called', 'stalker', 'not', 'stalked', '.', 'okay', '.', 'so', 'we', 'know', 'who', 'the', 'stalker', 'is', 'even', 'before', 'the', 'movie', 'starts', ';', 'no', 'guesswork', 'required', '.', 'stalked', 'proceeds', ',', 'then', ',', 'as', 'it', 'begins', ':', 'obvious', ',', 'obvious', ',', 'obvious', '.', 'the', 'opening', 'sequence', ',', 'contrived', 'quite', 'a', 'bit', ',', 'brings', 'daryl', 'and', 'brooke', '(', 'the', 'victim', ')', 'together', '.', 'daryl', 'obsesses', 'over', 'brooke', ',', 'follows', 'her', 'around', ',', 'and', 'tries', 'to', 'woo', 'her', '.', 'ultimately', 'rejected', 'by', 'her', ',', 'his', 'plans', 'become', 'more', 'and', 'more', 'desperate', 'and', 'elaborate', '.', 'these', 'plans', 'include', 'the', 'all', '-', 'time', ',', 'psycho', '-', 'in', '-', 'love', ',', 'cliche', ':', 'the', 'murdered', 'pet', '.', 'for', 'some', 'reason', ',', 'this', 'genre', \"'\", 's', 'films', 'require', 'a', 'dead', 'pet', 'to', 'be', 'found', 'by', 'the', 'victim', 'stalked', '.', 'stalked', 'is', 'no', 'exception', '(', 'it', \"'\", 's', 'a', 'cat', 'this', 'time', '--', 'found', 'in', 'the', 'shower', ')', '.', 'events', 'like', 'these', 'lead', 'to', 'the', 'inevitable', 'showdown', 'between', 'stalker', 'and', 'stalked', ',', 'where', 'only', 'one', 'survives', '(', 'guess', 'who', 'it', 'invariably', 'always', 'is', 'and', 'you', \"'\", 'll', 'guess', 'the', 'conclusion', 'to', 'this', 'turkey', ')', '.', 'stalked', \"'\", 's', 'cast', 'is', 'uniformly', 'adequate', ':', 'not', 'anything', 'to', 'write', 'home', 'about', 'but', 'also', 'not', 'all', 'that', 'bad', 'either', '.', 'jay', 'underwood', ',', 'as', 'the', 'stalker', ',', 'turns', 'toward', 'melodrama', 'a', 'bit', 'too', 'much', '.', 'he', 'overdoes', 'it', ',', 'in', 'other', 'words', ',', 'but', 'he', 'still', 'manages', 'to', 'be', 'creepy', 'enough', 'to', 'pass', 'as', 'the', 'type', 'of', 'stalker', 'the', 'story', 'demands', '.', 'maryam', 'd', \"'\", 'abo', ',', 'about', 'the', 'only', 'actor', 'close', 'to', 'being', 'a', 'star', 'here', '(', 'she', 'played', 'the', 'bond', 'chick', 'in', 'the', 'living', 'daylights', ')', ',', 'is', 'equally', 'adequate', 'as', 'the', '\"', 'stalked', '\"', 'of', 'the', 'title', ',', 'even', 'though', 'she', 'seems', 'too', 'ditzy', 'at', 'times', 'to', 'be', 'a', 'strong', ',', 'independent', 'business', '-', 'owner', '.', 'brooke', '(', 'd', \"'\", 'abo', ')', 'needs', 'to', 'be', 'ditzy', ',', 'however', ',', 'for', 'the', 'plot', 'to', 'proceed', '.', 'toward', 'the', 'end', ',', 'for', 'example', ',', 'brooke', 'has', 'her', 'suspicions', 'about', 'daryl', '.', 'to', 'ensure', 'he', 'won', \"'\", 't', 'use', 'it', 'as', 'another', 'excuse', 'to', 'see', 'her', ',', 'brooke', 'decides', 'to', 'return', 'a', 'toolbox', 'he', 'had', 'left', 'at', 'her', 'place', 'to', 'his', 'house', '.', 'does', 'she', 'just', 'leave', 'the', 'toolbox', 'at', 'the', 'door', 'when', 'no', 'one', 'answers', '?', 'of', 'course', 'not', '.', 'she', 'tries', 'the', 'door', ',', 'opens', 'it', ',', 'and', 'wanders', 'around', 'the', 'house', '.', 'when', 'daryl', 'returns', ',', 'he', 'enters', 'the', 'house', ',', 'of', 'course', ',', 'so', 'our', 'heroine', 'is', 'in', 'danger', '.', 'somehow', ',', 'even', 'though', 'her', 'car', 'is', 'parked', 'at', 'the', 'front', 'of', 'the', 'house', ',', 'right', 'by', 'the', 'front', 'door', ',', 'daryl', 'is', 'oblivious', 'to', 'her', 'presence', 'inside', '.', 'the', 'whole', 'episode', 'places', 'an', 'incredible', 'strain', 'on', 'the', 'audience', \"'\", 's', 'suspension', 'of', 'disbelief', 'and', 'questions', 'the', 'validity', 'of', 'either', 'character', \"'\", 's', 'intelligence', '.', 'stalked', 'receives', 'two', 'stars', 'because', ',', 'even', 'though', 'it', 'is', 'highly', 'derivative', 'and', 'somewhat', 'boring', ',', 'it', 'is', 'not', 'so', 'bad', 'that', 'it', 'cannot', 'be', 'watched', '.', 'rated', 'r', 'mostly', 'for', 'several', 'murder', 'scenes', 'and', 'brief', 'nudity', 'in', 'a', 'strip', 'bar', ',', 'it', 'is', 'not', 'as', 'offensive', 'as', 'many', 'other', 'thrillers', 'in', 'this', 'genre', 'are', '.', 'if', 'you', \"'\", 're', 'in', 'the', 'mood', 'for', 'a', 'good', 'suspense', 'film', ',', 'though', ',', 'stake', 'out', 'something', 'else', '.'], 'neg')\n",
      "Sample of the cleaned content (first 5 documents):\n",
      "('meet joe black classic boy meets girl boy likes girl boy gets killed horrible accident supernatural entity takes boy body supernatural entity falls love girl story based 1934 film death takes holiday meet joe black well acted romantic drama explores meanings life love william parrish anthony hopkins billionaire businessman brink 65th birthday built huge media empire raised two beautiful daughters allison marcia gay harden susan claire forlani william able negotiate way many tough spots suddenly begun fearing mortality one situation able talk way good reason fear death stalking however death deal make death taken possession man recently died brad pitt wants william guide holiday among living return william gets live extra days course agrees death human name joe black gets experience life complete innocent never experienced simple pleasures springy matters peanut butter quite compared complex pleasures susan fall love affair doomed early demise nearly three hours length meet joe black little bit leisurely side though never gets boringly lengthy instead film gets chance develop nicely textured characters situations get soak enjoy atmosphere rather hurriedly rushed romantic angle works well though surprisingly interactions joe black william parrish interesting daughter likely due anthony hopkins displays superb acting skills william desperate man seemingly ideal life want let go contrast claire forlani merely romantic interest gets show joe ropes love hardly interesting character joe black brad pitt seems bit stilted granted supposed place overly formal technique used pitt begins distract role still able hold course three hours character begins grow main character seems place drew jake weber ambitious executive williams company joe black main rival susan affections weber plays character hammy relish reminiscent snidley whiplash cartoonish foil aberration film filled many dimensional characters supernatural elements film handled murkily never distractingly never learn exact nature death never done something like actually gets bit creepy death talks dying voices accents initial conversations hopkins sound shockingly like hannibal lecter ultimate resolution one film supernatural problems seems well somewhat superficial still even film length pleasant time movies something necessarily expect film death one meet joe black delivers anyhow', 'pos')\n",
      "('dialogue film taken almost completely context jazzed bit make inept spoken two protagonists somewhere film basically serves perfect example film especially realize exchange meant taken seriously mr gregg mid life crisis araki writer director film wants show important teenagers wants show feel horrible horrible world show really cheap surrealism moronic exchanges like oh gets better similar bit dialogue said middle oh dunno fiftieth sex scene film counting several masturbation scenes one protagonists humping away top another says something along lines ever wonder life sorry man foreplay takes place act coitus course expect film written directed guy even spell first name right yes know cheap joke done doom generation advertised road trip movie people go around killing others attack also another teen angst film one slogans teen four letter word hardy har har film two angsty teens amy blue rose macgowan would later play buxom tatum scream jordon white james duval would go play randy quaid son independence day pick angsty homicidal maniac xavier red jonathan schaech would go play angsty lead guitarist thing way get symbolism red white blue huh huh go road trip three things happen order 1 sex 2 run weird people 3 kill film basically remix bunch far superior films gregg araki obviously seen films easy rider natural born killers kalifornia tries borrow elements films make something like pop culture reference guide forgets films either represented something film dug deep subjects brought something make deeper doom generation want wants show everything surreal manner sole reason araki want deal kind real level wants show everything weird manner forgets scenes supposed one scene earlier scene film amy jordan go quick e mart type place get food stuff amy smoking clerk asian man mind love racist film really tells put tells fuck something note points shotgun puts reluctantly jordan makes two hot dogs takes counter cash register rings 6 66 oh symbolism stop jordan checks wallet really car asks amy left wallet car well clerk brings shotgun asks money say gets ready kill xavier ditched middle nowhere scene pops nowhere fights clerk ends blowing clerk head clean clean wound mind head shown flying air lands fryer begins scream really object kind sick violence scene film one reason one reason gross araki thinks takes everything extreme make kind art wrong takes kind resistance make gore art george romero made dawn dead gory flick even today control everything still able make everything sick goes peter jackson disgustingly gory dead alive features 30 minute long fest blood guts dismemberments flesh chewing assorted stuff ending guy lawn mower strapped body taking sorts zombies sick also satirical controled scene like purpose film sticks everything else happens couple scenes jordan amy sex bath tub xavier watches masturbates licks semen hand xavier amy sex jordan watches window masturbates falls backwards man attacks trio stabbed crotch giant sword put could happen fast food employee stalks trio arm shot xavier various annoyances also look million camoes wide assortment people probably really know getting signed like peter toole helen mirren malcolm macdowell john gielgud probably signed caligula people indie actors parker posey nicky katt alternative rock stars skinny puppy perry farrel hollywood madam heidi fleiss christopher peter brady mcknight amanda bearse margaret cho grace screen matter seconds disappear return annoying main plot line point say hey look fill blank wow gimme break film meaning pretty easy detect know teens precious world horrible place two entities collide giant explosion horrific violence otherwise defined teen angst belief teenager horrible thing world bad look 19 years old went brief teen angst thing curiously lasted long taste nirvana since moved really know life phase teen angst phase something annoyingly sophomoric ignorant film thinks dealing kind serious level beating wrong horse part teen experimenting testing waters whining awful parents purposely feeling dispondent characters film film wants show great people punished world teenagers try defend totally overcome fault kill people world really need reality check world bad place teenagers easily harmed experimenting part taking everything happens learning film thinks teenagers basically doomed nothing hence title bad fallacy even express intelligent coherent manner everything overly surreal get scenes graphic violence graphic sex xavier licking semen hand express teen angst talking decapitated head show teens dispondent world makes way film constantly go back teen angst issue film araki kind competence writing direction show really want satirical approach show real problems world still think doom generation incompetent every single possible level could take acting rose macgowan horrible yes proved talented scream bad doom generation seen scream would christened one worst actresses working films today entire performance one note bitchy one scene cries dead animal forced laughable equally bad jonathan schaech wants slacker serial killer someone remorse emotions cause kind strain performance annoying hell granted better thing james duval let say makes keanu reeves look like brando kind slacker stuttering much much much worse every line says bad deemed least talented actor world seen lots bad actors james duval got worst least somewhere another example bad scene still convinced film opens club playing nine inch nail banal song heresy example lines god dead one cares hell see song plays red strobe lights show patrons dancing film pans amy standing looking dispondent film closes looks right camera says fuck explanation necessary finally note gregg grow really move parent basement read something salinger get day job quit', 'neg')\n",
      "('couple criminals mario van peebles loretta devine move rich family house hopes conning jewels however someone else steals jewels able get writer mario van peebles delivers clever script several unexpected plot twists director mario van peebles undermines high points haphazard camera work editing pacing felt though film wrapping hour mark alas still 35 minutes go daniel baldwin believe type gives best performance film outshining talented members cast r', 'neg')\n",
      "('say dated seen rosemary baby like exorcist thrilling horror film time seems boring laughable decades passed since original release mystery science theater 3000 skewered bad films past let tell could number good ones rosemary baby stars mia farrow time actually good looking innocent housewife innocent husband john cassavettes actor takes easy albeit evil road success seems harmless beginning mia john move apartment several past murders committed also skull living room decoration elderly neighbors pop housewarming well first hour slow moving film mia eats neighbors chocolate mousse passes comes finds darkened room bunch people yelling dancing like savages big evil man raping -- foreshadowing future life woody allen seems like dream finds pregnant almost forgets everyone helping pregnancy neighbors wonderful vitamin potions drink good luck charm wear around neck name obstetrician business 66 6 years meanwhile mia begins chronic stomach pains losing lot weight long looks like lead singer cranberries know health failing person movie least bit suspicious old friend maurice evans calls mia give bad news -- immediately falls coma two hour mark felt way rosemary baby way long leads payoff boring laughable rest movie guess someone put spell movie', 'neg')\n",
      "('michael richards leaves spot kramer infamous seinfeld tv sitcom stint lanky goofy best friend jeff daniels lawyer character ill fated unfunny comedy plot richard actor richards take place charles lawyer daniels real court case charles left unintelligible night heavy drinking bachelor party film follows antics two men try get away tomfoolery critique movie make laugh perhaps tired watched perhaps perhaps seen richards perform schtick thousand times seinfeld perhaps perhaps movie funny absolutely lack humour issue film either movie attempts weave couple love stories vision unfortunately also lacking conviction believability credibility contrived appear placed story convenience sake actors adequate enough roles problem lie acting wish could find one good reason see waste time unless course need something playing tv set waste time around house overall movie stinks good side charlize theron darn cute movie longer 90 minutes bad side movie funny interesting enjoyable way possible person even enjoy nachos watching emptiness please skip little known facts jonathan lynn earned degree law cambridge becoming actor director charlize theron grew farm outside benoni south africa child age 18 mother made go los angeles try career movie industry came la without knowing anyone city two weeks standing line hollywood boulevard agent gave card eight months la got first part since taken acting lessons career skyrocketed specifically devil advocate 8 10 charlize narrowly beat elizabeth berkley lead role movie showgirls quoted saying like guardian angel', 'neg')\n"
     ]
    }
   ],
   "source": [
    "# Fetch the movie_reviews dataset\n",
    "nltk.download('movie_reviews')\n",
    "nltk.download('stopwords')\n",
    "\n",
    "# Create a list of tuples \n",
    "# Each tuple contains information of the review and the review category\n",
    "# The outer loop iterates over each review category\n",
    "# The inner loop iterates over the file IDs associated with the category\n",
    "content = [(list(movie_reviews.words(fileid)), category)\n",
    "             for category in movie_reviews.categories()\n",
    "             for fileid in movie_reviews.fileids(category)]\n",
    "\n",
    "# Checking if the variable 'content' has been loaded correctly\n",
    "print(\"Sample of original content (first 5 documents):\")\n",
    "for i in range(5):\n",
    "    print(content[i])\n",
    "\n",
    "# Shuffles the content\n",
    "random.shuffle(content)\n",
    "\n",
    "# Preprocess the text content\n",
    "# Define stop words\n",
    "stop_words = set(stopwords.words('english'))\n",
    "\n",
    "# Define the function to clean text content\n",
    "# To remove stop words and punctuations\n",
    "def clean_content(words):\n",
    "    words = [word.lower() for word in words if word.lower() not in stop_words and word not in string.punctuation]\n",
    "    return ' '.join(words)\n",
    "\n",
    "# Apply the function\n",
    "cleaned_content = [(clean_content(words), category) for words, category in content]\n",
    "\n",
    "# Checking the cleaned content\n",
    "print(\"Sample of the cleaned content (first 5 documents):\")\n",
    "for i in range(5):\n",
    "    print(cleaned_content[i])\n",
    "\n",
    "# Convert the cleaned content to a dataframe and save as csv\n",
    "# Specify a path where I have write permissions using the os library\n",
    "# This line of code below returns the path to the home directory\n",
    "home_directory = os.path.expanduser('~')\n",
    "# And this line of code below creates a full file path\n",
    "# Through joining a directory path with the name of a file\n",
    "file_path = os.path.join(home_directory, 'movie_reviews_dataset.csv')\n",
    "df = pd.DataFrame(cleaned_content, columns=['review', 'sentiment category'])\n",
    "df.to_csv(file_path, index=False)\n"
   ]
  },
  {
   "cell_type": "code",
   "execution_count": 4,
   "metadata": {},
   "outputs": [
    {
     "name": "stdout",
     "output_type": "stream",
     "text": [
      "review                object\n",
      "sentiment category    object\n",
      "dtype: object\n"
     ]
    },
    {
     "data": {
      "text/html": [
       "<div>\n",
       "<style scoped>\n",
       "    .dataframe tbody tr th:only-of-type {\n",
       "        vertical-align: middle;\n",
       "    }\n",
       "\n",
       "    .dataframe tbody tr th {\n",
       "        vertical-align: top;\n",
       "    }\n",
       "\n",
       "    .dataframe thead th {\n",
       "        text-align: right;\n",
       "    }\n",
       "</style>\n",
       "<table border=\"1\" class=\"dataframe\">\n",
       "  <thead>\n",
       "    <tr style=\"text-align: right;\">\n",
       "      <th></th>\n",
       "      <th>review</th>\n",
       "      <th>sentiment category</th>\n",
       "    </tr>\n",
       "  </thead>\n",
       "  <tbody>\n",
       "    <tr>\n",
       "      <th>0</th>\n",
       "      <td>lake placid marks yet another entry series pre...</td>\n",
       "      <td>neg</td>\n",
       "    </tr>\n",
       "    <tr>\n",
       "      <th>1</th>\n",
       "      <td>anastasia contains something lacking recent di...</td>\n",
       "      <td>pos</td>\n",
       "    </tr>\n",
       "    <tr>\n",
       "      <th>2</th>\n",
       "      <td>october 1962 united states found brink nuclear...</td>\n",
       "      <td>pos</td>\n",
       "    </tr>\n",
       "    <tr>\n",
       "      <th>3</th>\n",
       "      <td>like wonderful 1990 drama awakenings starring ...</td>\n",
       "      <td>pos</td>\n",
       "    </tr>\n",
       "    <tr>\n",
       "      <th>4</th>\n",
       "      <td>walked crouching tiger hidden dragon thought s...</td>\n",
       "      <td>pos</td>\n",
       "    </tr>\n",
       "    <tr>\n",
       "      <th>5</th>\n",
       "      <td>battle dreamworks versus disney earlier year m...</td>\n",
       "      <td>pos</td>\n",
       "    </tr>\n",
       "    <tr>\n",
       "      <th>6</th>\n",
       "      <td>jerry springer got nothing wild things john mc...</td>\n",
       "      <td>pos</td>\n",
       "    </tr>\n",
       "    <tr>\n",
       "      <th>7</th>\n",
       "      <td>nothing like american history x theaters video...</td>\n",
       "      <td>pos</td>\n",
       "    </tr>\n",
       "    <tr>\n",
       "      <th>8</th>\n",
       "      <td>reasonable human would must admit occasionally...</td>\n",
       "      <td>neg</td>\n",
       "    </tr>\n",
       "    <tr>\n",
       "      <th>9</th>\n",
       "      <td>deceiver plot twist search movie overly constr...</td>\n",
       "      <td>neg</td>\n",
       "    </tr>\n",
       "  </tbody>\n",
       "</table>\n",
       "</div>"
      ],
      "text/plain": [
       "                                              review sentiment category\n",
       "0  lake placid marks yet another entry series pre...                neg\n",
       "1  anastasia contains something lacking recent di...                pos\n",
       "2  october 1962 united states found brink nuclear...                pos\n",
       "3  like wonderful 1990 drama awakenings starring ...                pos\n",
       "4  walked crouching tiger hidden dragon thought s...                pos\n",
       "5  battle dreamworks versus disney earlier year m...                pos\n",
       "6  jerry springer got nothing wild things john mc...                pos\n",
       "7  nothing like american history x theaters video...                pos\n",
       "8  reasonable human would must admit occasionally...                neg\n",
       "9  deceiver plot twist search movie overly constr...                neg"
      ]
     },
     "execution_count": 4,
     "metadata": {},
     "output_type": "execute_result"
    }
   ],
   "source": [
    "# Import the dataset\n",
    "reviews_df = pd.read_csv('movie_reviews_dataset.csv')\n",
    "print(reviews_df.dtypes)\n",
    "reviews_df.head(10)"
   ]
  },
  {
   "cell_type": "code",
   "execution_count": 15,
   "metadata": {},
   "outputs": [
    {
     "name": "stdout",
     "output_type": "stream",
     "text": [
      "review                0\n",
      "sentiment category    0\n",
      "dtype: int64\n"
     ]
    }
   ],
   "source": [
    "# Preprocess the data\n",
    "# Check for missing values\n",
    "print(reviews_df.isnull().sum())\n",
    "# No missing values"
   ]
  },
  {
   "cell_type": "code",
   "execution_count": 6,
   "metadata": {},
   "outputs": [
    {
     "data": {
      "text/html": [
       "<div>\n",
       "<style scoped>\n",
       "    .dataframe tbody tr th:only-of-type {\n",
       "        vertical-align: middle;\n",
       "    }\n",
       "\n",
       "    .dataframe tbody tr th {\n",
       "        vertical-align: top;\n",
       "    }\n",
       "\n",
       "    .dataframe thead th {\n",
       "        text-align: right;\n",
       "    }\n",
       "</style>\n",
       "<table border=\"1\" class=\"dataframe\">\n",
       "  <thead>\n",
       "    <tr style=\"text-align: right;\">\n",
       "      <th></th>\n",
       "      <th>review</th>\n",
       "      <th>sentiment category</th>\n",
       "    </tr>\n",
       "  </thead>\n",
       "  <tbody>\n",
       "    <tr>\n",
       "      <th>count</th>\n",
       "      <td>2000</td>\n",
       "      <td>2000</td>\n",
       "    </tr>\n",
       "    <tr>\n",
       "      <th>unique</th>\n",
       "      <td>1998</td>\n",
       "      <td>2</td>\n",
       "    </tr>\n",
       "    <tr>\n",
       "      <th>top</th>\n",
       "      <td>seemed like perfect concept better farrelly br...</td>\n",
       "      <td>neg</td>\n",
       "    </tr>\n",
       "    <tr>\n",
       "      <th>freq</th>\n",
       "      <td>2</td>\n",
       "      <td>1000</td>\n",
       "    </tr>\n",
       "  </tbody>\n",
       "</table>\n",
       "</div>"
      ],
      "text/plain": [
       "                                                   review sentiment category\n",
       "count                                                2000               2000\n",
       "unique                                               1998                  2\n",
       "top     seemed like perfect concept better farrelly br...                neg\n",
       "freq                                                    2               1000"
      ]
     },
     "execution_count": 6,
     "metadata": {},
     "output_type": "execute_result"
    }
   ],
   "source": [
    "# Conduct explanatory data analysis\n",
    "reviews_df.describe()"
   ]
  },
  {
   "cell_type": "markdown",
   "metadata": {},
   "source": [
    "***It seems that the same two review have both appeared twice from the information above. However, because the text content has been cleaned, and stop words and punctuation has been remove, it is hard to tell whether the same review has appeared twice or two similar reviews ended up looking identical after cleaning. Therefore, I will print out the duplicates first before I decide what to do with them.***"
   ]
  },
  {
   "cell_type": "code",
   "execution_count": 7,
   "metadata": {},
   "outputs": [
    {
     "name": "stdout",
     "output_type": "stream",
     "text": [
      "                                                 review sentiment category\n",
      "342   seemed like perfect concept better farrelly br...                neg\n",
      "614   tagline film houses born bad expect much prese...                neg\n",
      "1096  tagline film houses born bad expect much prese...                neg\n",
      "1175  seemed like perfect concept better farrelly br...                neg\n"
     ]
    }
   ],
   "source": [
    "# Print out the duplicates\n",
    "duplicates = reviews_df[reviews_df.duplicated(subset=['review'], keep=False)]\n",
    "print(duplicates)"
   ]
  },
  {
   "cell_type": "markdown",
   "metadata": {},
   "source": [
    "***Judging by the result above, the duplicated reviews are the exact same, and are from the same category, which is 'neg'. This means that keeping the duplicates would not necessarily add any additional values to my analysis, so I have decided to remove the duplicates.***"
   ]
  },
  {
   "cell_type": "code",
   "execution_count": 8,
   "metadata": {},
   "outputs": [
    {
     "data": {
      "text/html": [
       "<div>\n",
       "<style scoped>\n",
       "    .dataframe tbody tr th:only-of-type {\n",
       "        vertical-align: middle;\n",
       "    }\n",
       "\n",
       "    .dataframe tbody tr th {\n",
       "        vertical-align: top;\n",
       "    }\n",
       "\n",
       "    .dataframe thead th {\n",
       "        text-align: right;\n",
       "    }\n",
       "</style>\n",
       "<table border=\"1\" class=\"dataframe\">\n",
       "  <thead>\n",
       "    <tr style=\"text-align: right;\">\n",
       "      <th></th>\n",
       "      <th>review</th>\n",
       "      <th>sentiment category</th>\n",
       "    </tr>\n",
       "  </thead>\n",
       "  <tbody>\n",
       "    <tr>\n",
       "      <th>count</th>\n",
       "      <td>1998</td>\n",
       "      <td>1998</td>\n",
       "    </tr>\n",
       "    <tr>\n",
       "      <th>unique</th>\n",
       "      <td>1998</td>\n",
       "      <td>2</td>\n",
       "    </tr>\n",
       "    <tr>\n",
       "      <th>top</th>\n",
       "      <td>lake placid marks yet another entry series pre...</td>\n",
       "      <td>pos</td>\n",
       "    </tr>\n",
       "    <tr>\n",
       "      <th>freq</th>\n",
       "      <td>1</td>\n",
       "      <td>1000</td>\n",
       "    </tr>\n",
       "  </tbody>\n",
       "</table>\n",
       "</div>"
      ],
      "text/plain": [
       "                                                   review sentiment category\n",
       "count                                                1998               1998\n",
       "unique                                               1998                  2\n",
       "top     lake placid marks yet another entry series pre...                pos\n",
       "freq                                                    1               1000"
      ]
     },
     "execution_count": 8,
     "metadata": {},
     "output_type": "execute_result"
    }
   ],
   "source": [
    "# Remove the duplicates\n",
    "# Keep the first occurance of the duplicates\n",
    "reviews_df = reviews_df.drop_duplicates(subset=['review'], keep='first')\n",
    "\n",
    "# Check the updated dataset\n",
    "reviews_df.describe()"
   ]
  },
  {
   "cell_type": "code",
   "execution_count": 16,
   "metadata": {},
   "outputs": [
    {
     "data": {
      "image/png": "[encoded data removed]",
      "text/plain": [
       "<Figure size 600x400 with 1 Axes>"
      ]
     },
     "metadata": {},
     "output_type": "display_data"
    }
   ],
   "source": [
    "# Check the distribution of the data\n",
    "plt.figure(figsize=(6,4))\n",
    "sns.countplot(y='sentiment category', data=reviews_df)\n",
    "plt.title('Distribution of Sentiment Categories')\n",
    "plt.savefig('distribution_of_sentiment_categories.png')\n",
    "plt.show()\n"
   ]
  },
  {
   "cell_type": "code",
   "execution_count": 10,
   "metadata": {},
   "outputs": [
    {
     "name": "stdout",
     "output_type": "stream",
     "text": [
      "Training set size: (1598, 39516)\n",
      "Testing set size: (400, 39516)\n"
     ]
    }
   ],
   "source": [
    "# Feature extraction\n",
    "texts, labels = reviews_df['review'].tolist(), reviews_df['sentiment category'].tolist()\n",
    "\n",
    "# Initialise the TF-IDK Vectoriser\n",
    "vectoriser = TfidfVectorizer()\n",
    "\n",
    "# Convert the text data into TF-IDF features\n",
    "# Convert the data to arrays so it it easier to work with\n",
    "X = vectoriser.fit_transform(texts).toarray()\n",
    "y = labels\n",
    "\n",
    "# Split the data into training and test sets\n",
    "X_train, X_test, y_train, y_test = train_test_split(X, y, test_size=0.2, random_state=42)\n",
    "print(f\"Training set size: {X_train.shape}\")\n",
    "print(f\"Testing set size: {X_test.shape}\")\n",
    "\n"
   ]
  },
  {
   "cell_type": "code",
   "execution_count": 17,
   "metadata": {},
   "outputs": [
    {
     "name": "stdout",
     "output_type": "stream",
     "text": [
      "Accuracy: 0.785\n",
      "Classification report of the Multinomial Naive Bayes model:\n",
      "              precision    recall  f1-score   support\n",
      "\n",
      "         neg       0.81      0.76      0.79       207\n",
      "         pos       0.76      0.81      0.78       193\n",
      "\n",
      "    accuracy                           0.79       400\n",
      "   macro avg       0.79      0.79      0.78       400\n",
      "weighted avg       0.79      0.79      0.79       400\n",
      "\n"
     ]
    }
   ],
   "source": [
    "# Train the model\n",
    "model = MultinomialNB()\n",
    "\n",
    "# Fit the model onto the training data\n",
    "model.fit(X_train, y_train)\n",
    "\n",
    "# Make predictions\n",
    "y_pred = model.predict(X_test)\n",
    "\n",
    "# Evaluate the model using accuracy score \n",
    "accuracy = accuracy_score(y_test, y_pred)\n",
    "print(f\"Accuracy: {accuracy}\")\n",
    "\n",
    "# Generate the classification report\n",
    "print(\"Classification report of the Multinomial Naive Bayes model:\")\n",
    "print(classification_report(y_test, y_pred))"
   ]
  },
  {
   "cell_type": "markdown",
   "metadata": {},
   "source": [
    "***Model Evaluation***\n",
    "\n",
    "Accuracy score: In this case, the accuracy score of 0.785 suggests that out of all the predictions, 78.5% of them were accurately classified by my model.\n",
    "\n",
    "Classification report: \n",
    "\n",
    "1) Precision: For the neg class, 81% of the reviews predicted as negative were actually negative; for the pos class, 76% of the reviews predicted as positive were actually positive.\n",
    "\n",
    "2) Recall: For neg class, 76% of the actual negative reviews were correctly identified; for the pos class, 81% of the actual positive reviews were correctly identified.\n",
    "\n",
    "3) F1-Score: Balances both precision and recall. For the pos class, it is 0.79; for the neg class, it is 0.78.\n",
    "\n",
    "Overall, this indicates that the model performed fairly well across both the neg and pos classes, with precision, recall and F1-score all within the 0,78-0.81 range. However, there is room for improvement and I will try to optimise the model through experimenting with logistic regression. This is due to the fact that logisitc regression is also a good binary classifier."
   ]
  },
  {
   "cell_type": "code",
   "execution_count": 12,
   "metadata": {},
   "outputs": [
    {
     "name": "stdout",
     "output_type": "stream",
     "text": [
      "Logistic Regression Accuracy: 0.795\n",
      "Classification report for the logistic regression model:\n",
      "              precision    recall  f1-score   support\n",
      "\n",
      "         neg       0.84      0.74      0.79       207\n",
      "         pos       0.76      0.85      0.80       193\n",
      "\n",
      "    accuracy                           0.80       400\n",
      "   macro avg       0.80      0.80      0.79       400\n",
      "weighted avg       0.80      0.80      0.79       400\n",
      "\n"
     ]
    }
   ],
   "source": [
    "from sklearn.linear_model import LogisticRegression\n",
    "# Initiate the logistic regression model\n",
    "log_reg_model = LogisticRegression()\n",
    "\n",
    "# Train the model\n",
    "log_reg_model.fit(X_train, y_train)\n",
    "\n",
    "# Make predictions\n",
    "y_pred_log_reg = log_reg_model.predict(X_test)\n",
    "\n",
    "# Evaluate the model using accuracy score\n",
    "accuracy_log_reg = accuracy_score(y_test, y_pred_log_reg)\n",
    "print(f\"Logistic Regression Accuracy: {accuracy_log_reg}\")\n",
    "\n",
    "# Print the classification report\n",
    "print(\"Classification report for the logistic regression model:\")\n",
    "print(classification_report(y_test, y_pred_log_reg))\n"
   ]
  },
  {
   "cell_type": "markdown",
   "metadata": {},
   "source": [
    "***Model Evaluation***\n",
    "\n",
    "Accuracy score: for the logistic regression model, the accuracy score is 0.795, which means out of all the predictions made by the model, 79.5% of them are accurate, which is 1% higher than the multinomialNB model.\n",
    "\n",
    "Classification report:\n",
    "\n",
    "1) Precision: For the neg class, 84% of the reviews predicted as negative were actually negative; for the pos class, 76% of the reviews predicted as positive were actually positive.\n",
    "\n",
    "2) Recall: For neg class, 74% of the actual negative reviews were correctly identified; for the pos class, 85% of the actual positive reviews were correctly identified.\n",
    "\n",
    "3) F1-Score: Balances both precision and recall. For the pos class, it is 0.80; for the neg class, it is 0.79.\n",
    "\n",
    "In conclusion, as suggested by the accuracy score and F1-score, the logistic regression model performs better in this case.\n"
   ]
  },
  {
   "cell_type": "code",
   "execution_count": null,
   "metadata": {},
   "outputs": [],
   "source": []
  }
 ],
 "metadata": {
  "kernelspec": {
   "display_name": "Python 3",
   "language": "python",
   "name": "python3"
  },
  "language_info": {
   "codemirror_mode": {
    "name": "ipython",
    "version": 3
   },
   "file_extension": ".py",
   "mimetype": "text/x-python",
   "name": "python",
   "nbconvert_exporter": "python",
   "pygments_lexer": "ipython3",
   "version": "3.11.7"
  }
 },
 "nbformat": 4,
 "nbformat_minor": 2
}
